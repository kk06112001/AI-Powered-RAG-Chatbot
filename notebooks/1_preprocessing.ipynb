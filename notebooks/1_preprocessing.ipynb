{
 "cells": [
  {
   "cell_type": "code",
   "execution_count": 23,
   "id": "8f5a4e8d",
   "metadata": {},
   "outputs": [],
   "source": [
    "import os\n",
    "import json\n",
    "import nltk\n",
    "from nltk.tokenize import sent_tokenize\n",
    "from PyPDF2 import PdfReader"
   ]
  },
  {
   "cell_type": "code",
   "execution_count": 24,
   "id": "c807d325",
   "metadata": {},
   "outputs": [
    {
     "name": "stderr",
     "output_type": "stream",
     "text": [
      "[nltk_data] Downloading package punkt to\n",
      "[nltk_data]     C:\\Users\\kk061\\AppData\\Roaming\\nltk_data...\n",
      "[nltk_data]   Package punkt is already up-to-date!\n",
      "[nltk_data] Downloading package punkt_tab to\n",
      "[nltk_data]     C:\\Users\\kk061\\AppData\\Roaming\\nltk_data...\n",
      "[nltk_data]   Unzipping tokenizers\\punkt_tab.zip.\n"
     ]
    },
    {
     "data": {
      "text/plain": [
       "True"
      ]
     },
     "execution_count": 24,
     "metadata": {},
     "output_type": "execute_result"
    }
   ],
   "source": [
    "nltk.download('punkt')\n",
    "nltk.download('punkt_tab')"
   ]
  },
  {
   "cell_type": "code",
   "execution_count": 25,
   "id": "4146585d",
   "metadata": {},
   "outputs": [],
   "source": [
    "pdf_path='../data/AITrainingDocument.pdf'\n",
    "reader = PdfReader(pdf_path)"
   ]
  },
  {
   "cell_type": "code",
   "execution_count": 26,
   "id": "d556715c",
   "metadata": {},
   "outputs": [],
   "source": [
    "raw_text = \"\"\n",
    "for page in reader.pages:\n",
    "    raw_text += page.extract_text() + \"\\n\""
   ]
  },
  {
   "cell_type": "code",
   "execution_count": 27,
   "id": "88a53eb4",
   "metadata": {},
   "outputs": [],
   "source": [
    "cleaned_text = raw_text.replace('\\n', ' ').replace('\\t', ' ').strip()"
   ]
  },
  {
   "cell_type": "code",
   "execution_count": 28,
   "id": "7bf56760",
   "metadata": {},
   "outputs": [],
   "source": [
    "sentences = sent_tokenize(cleaned_text)"
   ]
  },
  {
   "cell_type": "code",
   "execution_count": 29,
   "id": "58844ec4",
   "metadata": {},
   "outputs": [
    {
     "name": "stdout",
     "output_type": "stream",
     "text": [
      "Total chunks created: 65\n"
     ]
    }
   ],
   "source": [
    "chunks = []\n",
    "chunk=\"\"\n",
    "word_limit=200\n",
    "for sentence in sentences:\n",
    "    if len(chunk.split()) + len(sentence.split()) <= word_limit:\n",
    "        chunk += \" \" + sentence\n",
    "    else:\n",
    "        chunks.append(chunk.strip())\n",
    "        chunk = sentence\n",
    "        \n",
    "if chunk:\n",
    "    chunks.append(chunk.strip())\n",
    "print(f\"Total chunks created: {len(chunks)}\")"
   ]
  },
  {
   "cell_type": "code",
   "execution_count": 30,
   "id": "ec54645a",
   "metadata": {},
   "outputs": [
    {
     "name": "stdout",
     "output_type": "stream",
     "text": [
      "Chunks saved to '../chunks/chunks.json'\n"
     ]
    }
   ],
   "source": [
    "os.makedirs('../chunks', exist_ok=True)\n",
    "with open('../chunks/chunks.json', 'w') as f:\n",
    "    json.dump(chunks, f, indent=2)\n",
    "    \n",
    "print(\"Chunks saved to '../chunks/chunks.json'\")"
   ]
  },
  {
   "cell_type": "code",
   "execution_count": null,
   "id": "6693107d",
   "metadata": {},
   "outputs": [],
   "source": []
  },
  {
   "cell_type": "code",
   "execution_count": null,
   "id": "377dfea6",
   "metadata": {},
   "outputs": [],
   "source": []
  },
  {
   "cell_type": "code",
   "execution_count": null,
   "id": "984278e0",
   "metadata": {},
   "outputs": [],
   "source": []
  }
 ],
 "metadata": {
  "kernelspec": {
   "display_name": ".conda",
   "language": "python",
   "name": "python3"
  },
  "language_info": {
   "codemirror_mode": {
    "name": "ipython",
    "version": 3
   },
   "file_extension": ".py",
   "mimetype": "text/x-python",
   "name": "python",
   "nbconvert_exporter": "python",
   "pygments_lexer": "ipython3",
   "version": "3.10.18"
  }
 },
 "nbformat": 4,
 "nbformat_minor": 5
}
